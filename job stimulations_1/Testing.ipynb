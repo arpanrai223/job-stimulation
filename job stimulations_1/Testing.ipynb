{
 "cells": [
  {
   "cell_type": "raw",
   "id": "6e6503dd-8601-4624-8de4-3697613a23df",
   "metadata": {},
   "source": [
    "Query examples:-\n",
    "\n",
    "What is the total revenue?\n",
    "What is the Net Income?\n",
    "What is the sum of total assets?\n",
    "What is the sum of total liabilities?\n",
    "What is the revenue growth(%) ?\n",
    "What is the net income growth(%) ?\n",
    "What is the year by year average revenue growth rate(%)?\n",
    "What is the year by year average net income growth rate(%)?\n",
    "What is the year by year average assets growth rate(%)?\n",
    "What is the year by year average liabilities growth rate(%)?"
   ]
  },
  {
   "cell_type": "code",
   "execution_count": 1,
   "id": "715501e4-e0c6-4177-bbaa-0dd9b926d6b2",
   "metadata": {},
   "outputs": [],
   "source": [
    "import pandas as pd\n",
    "data = pd.read_csv('final_data_report.csv')\n",
    "data_2 = pd.read_csv('Summary_final_report.csv')"
   ]
  },
  {
   "cell_type": "code",
   "execution_count": 2,
   "id": "ac0bbe76-eea6-41bf-8e50-f5041bece8a5",
   "metadata": {},
   "outputs": [
    {
     "data": {
      "text/html": [
       "<div>\n",
       "<style scoped>\n",
       "    .dataframe tbody tr th:only-of-type {\n",
       "        vertical-align: middle;\n",
       "    }\n",
       "\n",
       "    .dataframe tbody tr th {\n",
       "        vertical-align: top;\n",
       "    }\n",
       "\n",
       "    .dataframe thead th {\n",
       "        text-align: right;\n",
       "    }\n",
       "</style>\n",
       "<table border=\"1\" class=\"dataframe\">\n",
       "  <thead>\n",
       "    <tr style=\"text-align: right;\">\n",
       "      <th></th>\n",
       "      <th>Unnamed: 0</th>\n",
       "      <th>Company</th>\n",
       "      <th>Year</th>\n",
       "      <th>Total Revenue</th>\n",
       "      <th>Net Income</th>\n",
       "      <th>Total Assets</th>\n",
       "      <th>Total Liabilities</th>\n",
       "      <th>Revenue Growth (%)</th>\n",
       "      <th>Net Income Growth (%)</th>\n",
       "    </tr>\n",
       "  </thead>\n",
       "  <tbody>\n",
       "    <tr>\n",
       "      <th>0</th>\n",
       "      <td>0</td>\n",
       "      <td>Microsoft</td>\n",
       "      <td>2022</td>\n",
       "      <td>198270.0</td>\n",
       "      <td>72738.0</td>\n",
       "      <td>364840.0</td>\n",
       "      <td>198298.0</td>\n",
       "      <td>0.000000</td>\n",
       "      <td>0.000000</td>\n",
       "    </tr>\n",
       "    <tr>\n",
       "      <th>1</th>\n",
       "      <td>1</td>\n",
       "      <td>Microsoft</td>\n",
       "      <td>2023</td>\n",
       "      <td>211915.0</td>\n",
       "      <td>72361.0</td>\n",
       "      <td>411976.0</td>\n",
       "      <td>205753.0</td>\n",
       "      <td>6.882030</td>\n",
       "      <td>-0.518299</td>\n",
       "    </tr>\n",
       "    <tr>\n",
       "      <th>2</th>\n",
       "      <td>2</td>\n",
       "      <td>Microsoft</td>\n",
       "      <td>2024</td>\n",
       "      <td>245122.0</td>\n",
       "      <td>88136.0</td>\n",
       "      <td>512163.0</td>\n",
       "      <td>243686.0</td>\n",
       "      <td>15.669962</td>\n",
       "      <td>21.800417</td>\n",
       "    </tr>\n",
       "    <tr>\n",
       "      <th>3</th>\n",
       "      <td>3</td>\n",
       "      <td>Tesla</td>\n",
       "      <td>2022</td>\n",
       "      <td>53823.0</td>\n",
       "      <td>5644.0</td>\n",
       "      <td>62131.0</td>\n",
       "      <td>30548.0</td>\n",
       "      <td>0.000000</td>\n",
       "      <td>0.000000</td>\n",
       "    </tr>\n",
       "    <tr>\n",
       "      <th>4</th>\n",
       "      <td>4</td>\n",
       "      <td>Tesla</td>\n",
       "      <td>2023</td>\n",
       "      <td>81462.0</td>\n",
       "      <td>12587.0</td>\n",
       "      <td>82338.0</td>\n",
       "      <td>36440.0</td>\n",
       "      <td>51.351653</td>\n",
       "      <td>123.015592</td>\n",
       "    </tr>\n",
       "    <tr>\n",
       "      <th>5</th>\n",
       "      <td>5</td>\n",
       "      <td>Tesla</td>\n",
       "      <td>2024</td>\n",
       "      <td>96773.0</td>\n",
       "      <td>14974.0</td>\n",
       "      <td>106618.0</td>\n",
       "      <td>43009.0</td>\n",
       "      <td>18.795267</td>\n",
       "      <td>18.964010</td>\n",
       "    </tr>\n",
       "    <tr>\n",
       "      <th>6</th>\n",
       "      <td>6</td>\n",
       "      <td>Apple</td>\n",
       "      <td>2022</td>\n",
       "      <td>394328.0</td>\n",
       "      <td>99803.0</td>\n",
       "      <td>352755.0</td>\n",
       "      <td>302083.0</td>\n",
       "      <td>0.000000</td>\n",
       "      <td>0.000000</td>\n",
       "    </tr>\n",
       "    <tr>\n",
       "      <th>7</th>\n",
       "      <td>7</td>\n",
       "      <td>Apple</td>\n",
       "      <td>2023</td>\n",
       "      <td>383285.0</td>\n",
       "      <td>96995.0</td>\n",
       "      <td>352583.0</td>\n",
       "      <td>290437.0</td>\n",
       "      <td>-2.800461</td>\n",
       "      <td>-2.813543</td>\n",
       "    </tr>\n",
       "    <tr>\n",
       "      <th>8</th>\n",
       "      <td>8</td>\n",
       "      <td>Apple</td>\n",
       "      <td>2024</td>\n",
       "      <td>391035.0</td>\n",
       "      <td>93736.0</td>\n",
       "      <td>364980.0</td>\n",
       "      <td>308030.0</td>\n",
       "      <td>2.021994</td>\n",
       "      <td>-3.359967</td>\n",
       "    </tr>\n",
       "  </tbody>\n",
       "</table>\n",
       "</div>"
      ],
      "text/plain": [
       "   Unnamed: 0    Company  Year  Total Revenue  Net Income  Total Assets  \\\n",
       "0           0  Microsoft  2022       198270.0     72738.0      364840.0   \n",
       "1           1  Microsoft  2023       211915.0     72361.0      411976.0   \n",
       "2           2  Microsoft  2024       245122.0     88136.0      512163.0   \n",
       "3           3      Tesla  2022        53823.0      5644.0       62131.0   \n",
       "4           4      Tesla  2023        81462.0     12587.0       82338.0   \n",
       "5           5      Tesla  2024        96773.0     14974.0      106618.0   \n",
       "6           6      Apple  2022       394328.0     99803.0      352755.0   \n",
       "7           7      Apple  2023       383285.0     96995.0      352583.0   \n",
       "8           8      Apple  2024       391035.0     93736.0      364980.0   \n",
       "\n",
       "   Total Liabilities  Revenue Growth (%)  Net Income Growth (%)  \n",
       "0           198298.0            0.000000               0.000000  \n",
       "1           205753.0            6.882030              -0.518299  \n",
       "2           243686.0           15.669962              21.800417  \n",
       "3            30548.0            0.000000               0.000000  \n",
       "4            36440.0           51.351653             123.015592  \n",
       "5            43009.0           18.795267              18.964010  \n",
       "6           302083.0            0.000000               0.000000  \n",
       "7           290437.0           -2.800461              -2.813543  \n",
       "8           308030.0            2.021994              -3.359967  "
      ]
     },
     "execution_count": 2,
     "metadata": {},
     "output_type": "execute_result"
    }
   ],
   "source": [
    "data"
   ]
  },
  {
   "cell_type": "code",
   "execution_count": 3,
   "id": "9a1ef7c5-ecc4-491e-a181-530730c8d367",
   "metadata": {},
   "outputs": [
    {
     "name": "stdout",
     "output_type": "stream",
     "text": [
      "Year by Year Average Growth from 2021 to 2023\n"
     ]
    },
    {
     "data": {
      "text/html": [
       "<div>\n",
       "<style scoped>\n",
       "    .dataframe tbody tr th:only-of-type {\n",
       "        vertical-align: middle;\n",
       "    }\n",
       "\n",
       "    .dataframe tbody tr th {\n",
       "        vertical-align: top;\n",
       "    }\n",
       "\n",
       "    .dataframe thead th {\n",
       "        text-align: right;\n",
       "    }\n",
       "</style>\n",
       "<table border=\"1\" class=\"dataframe\">\n",
       "  <thead>\n",
       "    <tr style=\"text-align: right;\">\n",
       "      <th></th>\n",
       "      <th>Unnamed: 0</th>\n",
       "      <th>Company</th>\n",
       "      <th>Revenue Growth Over Period (%)</th>\n",
       "      <th>Net Income Growth Over Period (%)</th>\n",
       "    </tr>\n",
       "  </thead>\n",
       "  <tbody>\n",
       "    <tr>\n",
       "      <th>0</th>\n",
       "      <td>0</td>\n",
       "      <td>Apple</td>\n",
       "      <td>-0.835092</td>\n",
       "      <td>-6.078976</td>\n",
       "    </tr>\n",
       "    <tr>\n",
       "      <th>1</th>\n",
       "      <td>1</td>\n",
       "      <td>Microsoft</td>\n",
       "      <td>23.630403</td>\n",
       "      <td>21.169128</td>\n",
       "    </tr>\n",
       "    <tr>\n",
       "      <th>2</th>\n",
       "      <td>2</td>\n",
       "      <td>Tesla</td>\n",
       "      <td>79.798599</td>\n",
       "      <td>165.308292</td>\n",
       "    </tr>\n",
       "  </tbody>\n",
       "</table>\n",
       "</div>"
      ],
      "text/plain": [
       "   Unnamed: 0    Company  Revenue Growth Over Period (%)  \\\n",
       "0           0      Apple                       -0.835092   \n",
       "1           1  Microsoft                       23.630403   \n",
       "2           2      Tesla                       79.798599   \n",
       "\n",
       "   Net Income Growth Over Period (%)  \n",
       "0                          -6.078976  \n",
       "1                          21.169128  \n",
       "2                         165.308292  "
      ]
     },
     "execution_count": 3,
     "metadata": {},
     "output_type": "execute_result"
    }
   ],
   "source": [
    "print(\"Year by Year Average Growth from 2021 to 2023\")\n",
    "data_2"
   ]
  },
  {
   "cell_type": "code",
   "execution_count": 4,
   "id": "0bf34be4-a5af-49b0-aee5-5af4f587e642",
   "metadata": {},
   "outputs": [
    {
     "name": "stdout",
     "output_type": "stream",
     "text": [
      "----------------------------------------------------------------------------\n"
     ]
    },
    {
     "name": "stdin",
     "output_type": "stream",
     "text": [
      "\n",
      "Enter Hi to start the chatbot session; type 'exit' to quit):  exit\n"
     ]
    }
   ],
   "source": [
    "%run AI_driven_Financial_ChatBot_Prototype.py"
   ]
  },
  {
   "cell_type": "code",
   "execution_count": 5,
   "id": "d2bfe4b3-8f3c-427a-923f-36fbd9fdc7f3",
   "metadata": {},
   "outputs": [
    {
     "name": "stdout",
     "output_type": "stream",
     "text": [
      "hello\n"
     ]
    }
   ],
   "source": [
    "print('hello')"
   ]
  },
  {
   "cell_type": "code",
   "execution_count": 6,
   "id": "7dbf09af-e45a-4237-a68b-61c7bb255199",
   "metadata": {},
   "outputs": [
    {
     "name": "stdout",
     "output_type": "stream",
     "text": [
      "----------------------------------------------------------------------------\n"
     ]
    },
    {
     "name": "stdin",
     "output_type": "stream",
     "text": [
      "\n",
      "Enter Hi to start the chatbot session; type 'exit' to quit):  hi\n"
     ]
    },
    {
     "name": "stdout",
     "output_type": "stream",
     "text": [
      "\n",
      "Hello! Welcome to AI Driven Financial Chatbot!!!\n",
      "\n",
      "I can help you with your financial queries\n",
      "Please select the company name from below: -\n",
      "\n",
      "1.Microsoft \n",
      "2.Tesla \n",
      "3.Apple\n"
     ]
    },
    {
     "name": "stdin",
     "output_type": "stream",
     "text": [
      "Enter company name :  apple\n"
     ]
    },
    {
     "name": "stdout",
     "output_type": "stream",
     "text": [
      "\n",
      "The data for the fiscal year 2024, 2023, and 2022 is currently available\n"
     ]
    },
    {
     "name": "stdin",
     "output_type": "stream",
     "text": [
      "The fiscal year for the selected company :  2024\n"
     ]
    },
    {
     "name": "stdout",
     "output_type": "stream",
     "text": [
      "\n",
      "Please enter your query\n"
     ]
    },
    {
     "name": "stdin",
     "output_type": "stream",
     "text": [
      " What is the cash flow from operations growth(%) ? What is the year by year average revenue growth rate(%)?\n"
     ]
    },
    {
     "name": "stdout",
     "output_type": "stream",
     "text": [
      "Sorry, I cannot only provide information on the requested query.\n",
      "----------------------------------------------------------------------------\n"
     ]
    },
    {
     "name": "stdin",
     "output_type": "stream",
     "text": [
      "\n",
      "Enter Hi to start the chatbot session; type 'exit' to quit):  What is the year by year average revenue growth rate(%)?\n"
     ]
    },
    {
     "name": "stdout",
     "output_type": "stream",
     "text": [
      "Enter 'Hi' Properly!!!!! by starting the chatbot session again\n"
     ]
    }
   ],
   "source": [
    "%run AI_driven_Financial_ChatBot_Prototype.py"
   ]
  },
  {
   "cell_type": "code",
   "execution_count": null,
   "id": "f897f342-10bf-4654-9743-f4a913208b1d",
   "metadata": {},
   "outputs": [],
   "source": []
  }
 ],
 "metadata": {
  "kernelspec": {
   "display_name": "Python 3 (ipykernel)",
   "language": "python",
   "name": "python3"
  },
  "language_info": {
   "codemirror_mode": {
    "name": "ipython",
    "version": 3
   },
   "file_extension": ".py",
   "mimetype": "text/x-python",
   "name": "python",
   "nbconvert_exporter": "python",
   "pygments_lexer": "ipython3",
   "version": "3.11.3"
  }
 },
 "nbformat": 4,
 "nbformat_minor": 5
}
