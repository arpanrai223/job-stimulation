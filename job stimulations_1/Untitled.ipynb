{
 "cells": [
  {
   "cell_type": "code",
   "execution_count": 2,
   "id": "c4baa14b-2f2c-4614-9ff9-cf76e421054c",
   "metadata": {},
   "outputs": [],
   "source": [
    "import pandas as pd\n"
   ]
  },
  {
   "cell_type": "code",
   "execution_count": 3,
   "id": "9eb18227-eaaa-4d6b-a10b-1589495fc6b0",
   "metadata": {},
   "outputs": [
    {
     "data": {
      "text/html": [
       "<div>\n",
       "<style scoped>\n",
       "    .dataframe tbody tr th:only-of-type {\n",
       "        vertical-align: middle;\n",
       "    }\n",
       "\n",
       "    .dataframe tbody tr th {\n",
       "        vertical-align: top;\n",
       "    }\n",
       "\n",
       "    .dataframe thead th {\n",
       "        text-align: right;\n",
       "    }\n",
       "</style>\n",
       "<table border=\"1\" class=\"dataframe\">\n",
       "  <thead>\n",
       "    <tr style=\"text-align: right;\">\n",
       "      <th></th>\n",
       "      <th>Company</th>\n",
       "      <th>Year</th>\n",
       "      <th>Total Revenue</th>\n",
       "      <th>Net Income</th>\n",
       "      <th>Total Assets</th>\n",
       "      <th>Total Liabilities</th>\n",
       "    </tr>\n",
       "  </thead>\n",
       "  <tbody>\n",
       "    <tr>\n",
       "      <th>0</th>\n",
       "      <td>Microsoft</td>\n",
       "      <td>2022</td>\n",
       "      <td>198270.0</td>\n",
       "      <td>72738.0</td>\n",
       "      <td>364840.0</td>\n",
       "      <td>198298.0</td>\n",
       "    </tr>\n",
       "    <tr>\n",
       "      <th>1</th>\n",
       "      <td>Microsoft</td>\n",
       "      <td>2023</td>\n",
       "      <td>211915.0</td>\n",
       "      <td>72361.0</td>\n",
       "      <td>411976.0</td>\n",
       "      <td>205753.0</td>\n",
       "    </tr>\n",
       "    <tr>\n",
       "      <th>2</th>\n",
       "      <td>Microsoft</td>\n",
       "      <td>2024</td>\n",
       "      <td>245122.0</td>\n",
       "      <td>88136.0</td>\n",
       "      <td>512163.0</td>\n",
       "      <td>243686.0</td>\n",
       "    </tr>\n",
       "    <tr>\n",
       "      <th>3</th>\n",
       "      <td>Tesla</td>\n",
       "      <td>2022</td>\n",
       "      <td>53823.0</td>\n",
       "      <td>5644.0</td>\n",
       "      <td>62131.0</td>\n",
       "      <td>30548.0</td>\n",
       "    </tr>\n",
       "    <tr>\n",
       "      <th>4</th>\n",
       "      <td>Tesla</td>\n",
       "      <td>2023</td>\n",
       "      <td>81462.0</td>\n",
       "      <td>12587.0</td>\n",
       "      <td>82338.0</td>\n",
       "      <td>36440.0</td>\n",
       "    </tr>\n",
       "  </tbody>\n",
       "</table>\n",
       "</div>"
      ],
      "text/plain": [
       "     Company  Year  Total Revenue  Net Income  Total Assets  Total Liabilities\n",
       "0  Microsoft  2022       198270.0     72738.0      364840.0           198298.0\n",
       "1  Microsoft  2023       211915.0     72361.0      411976.0           205753.0\n",
       "2  Microsoft  2024       245122.0     88136.0      512163.0           243686.0\n",
       "3      Tesla  2022        53823.0      5644.0       62131.0            30548.0\n",
       "4      Tesla  2023        81462.0     12587.0       82338.0            36440.0"
      ]
     },
     "execution_count": 3,
     "metadata": {},
     "output_type": "execute_result"
    }
   ],
   "source": [
    "df = pd.read_csv('finential_analysis.csv')\n",
    "df.head()\n"
   ]
  },
  {
   "cell_type": "code",
   "execution_count": 4,
   "id": "23b341f8-ceb1-4ad7-801d-7f0ae913ea6e",
   "metadata": {},
   "outputs": [],
   "source": [
    "df['Revenue Growth (%)'] = df.groupby(['Company'])['Total Revenue'].pct_change() * 100\n",
    "df['Net Income Growth (%)'] = df.groupby(['Company'])['Net Income'].pct_change() * 100"
   ]
  },
  {
   "cell_type": "code",
   "execution_count": 5,
   "id": "258a5beb-dee9-4fca-92f1-4869671c785a",
   "metadata": {},
   "outputs": [
    {
     "name": "stdout",
     "output_type": "stream",
     "text": [
      "     Company  Year  Total Revenue  Net Income  Total Assets  \\\n",
      "0  Microsoft  2022       198270.0     72738.0      364840.0   \n",
      "1  Microsoft  2023       211915.0     72361.0      411976.0   \n",
      "2  Microsoft  2024       245122.0     88136.0      512163.0   \n",
      "3      Tesla  2022        53823.0      5644.0       62131.0   \n",
      "4      Tesla  2023        81462.0     12587.0       82338.0   \n",
      "5      Tesla  2024        96773.0     14974.0      106618.0   \n",
      "6      Apple  2022       394328.0     99803.0      352755.0   \n",
      "7      Apple  2023       383285.0     96995.0      352583.0   \n",
      "8      Apple  2024       391035.0     93736.0      364980.0   \n",
      "\n",
      "   Total Liabilities  Revenue Growth (%)  Net Income Growth (%)  \n",
      "0           198298.0                 NaN                    NaN  \n",
      "1           205753.0            6.882030              -0.518299  \n",
      "2           243686.0           15.669962              21.800417  \n",
      "3            30548.0                 NaN                    NaN  \n",
      "4            36440.0           51.351653             123.015592  \n",
      "5            43009.0           18.795267              18.964010  \n",
      "6           302083.0                 NaN                    NaN  \n",
      "7           290437.0           -2.800461              -2.813543  \n",
      "8           308030.0            2.021994              -3.359967  \n"
     ]
    }
   ],
   "source": [
    "print(df)"
   ]
  },
  {
   "cell_type": "code",
   "execution_count": 6,
   "id": "b73197ee-58fe-47e4-b8f2-88284bda1f0d",
   "metadata": {},
   "outputs": [],
   "source": [
    "df.fillna(0, inplace=True)"
   ]
  },
  {
   "cell_type": "code",
   "execution_count": 7,
   "id": "407c93ea-27f4-4189-896b-fcf4206177b6",
   "metadata": {},
   "outputs": [
    {
     "data": {
      "text/html": [
       "<div>\n",
       "<style scoped>\n",
       "    .dataframe tbody tr th:only-of-type {\n",
       "        vertical-align: middle;\n",
       "    }\n",
       "\n",
       "    .dataframe tbody tr th {\n",
       "        vertical-align: top;\n",
       "    }\n",
       "\n",
       "    .dataframe thead th {\n",
       "        text-align: right;\n",
       "    }\n",
       "</style>\n",
       "<table border=\"1\" class=\"dataframe\">\n",
       "  <thead>\n",
       "    <tr style=\"text-align: right;\">\n",
       "      <th></th>\n",
       "      <th>Company</th>\n",
       "      <th>Year</th>\n",
       "      <th>Total Revenue</th>\n",
       "      <th>Net Income</th>\n",
       "      <th>Total Assets</th>\n",
       "      <th>Total Liabilities</th>\n",
       "      <th>Revenue Growth (%)</th>\n",
       "      <th>Net Income Growth (%)</th>\n",
       "    </tr>\n",
       "  </thead>\n",
       "  <tbody>\n",
       "    <tr>\n",
       "      <th>0</th>\n",
       "      <td>Microsoft</td>\n",
       "      <td>2022</td>\n",
       "      <td>198270.0</td>\n",
       "      <td>72738.0</td>\n",
       "      <td>364840.0</td>\n",
       "      <td>198298.0</td>\n",
       "      <td>0.000000</td>\n",
       "      <td>0.000000</td>\n",
       "    </tr>\n",
       "    <tr>\n",
       "      <th>1</th>\n",
       "      <td>Microsoft</td>\n",
       "      <td>2023</td>\n",
       "      <td>211915.0</td>\n",
       "      <td>72361.0</td>\n",
       "      <td>411976.0</td>\n",
       "      <td>205753.0</td>\n",
       "      <td>6.882030</td>\n",
       "      <td>-0.518299</td>\n",
       "    </tr>\n",
       "    <tr>\n",
       "      <th>2</th>\n",
       "      <td>Microsoft</td>\n",
       "      <td>2024</td>\n",
       "      <td>245122.0</td>\n",
       "      <td>88136.0</td>\n",
       "      <td>512163.0</td>\n",
       "      <td>243686.0</td>\n",
       "      <td>15.669962</td>\n",
       "      <td>21.800417</td>\n",
       "    </tr>\n",
       "    <tr>\n",
       "      <th>3</th>\n",
       "      <td>Tesla</td>\n",
       "      <td>2022</td>\n",
       "      <td>53823.0</td>\n",
       "      <td>5644.0</td>\n",
       "      <td>62131.0</td>\n",
       "      <td>30548.0</td>\n",
       "      <td>0.000000</td>\n",
       "      <td>0.000000</td>\n",
       "    </tr>\n",
       "    <tr>\n",
       "      <th>4</th>\n",
       "      <td>Tesla</td>\n",
       "      <td>2023</td>\n",
       "      <td>81462.0</td>\n",
       "      <td>12587.0</td>\n",
       "      <td>82338.0</td>\n",
       "      <td>36440.0</td>\n",
       "      <td>51.351653</td>\n",
       "      <td>123.015592</td>\n",
       "    </tr>\n",
       "    <tr>\n",
       "      <th>5</th>\n",
       "      <td>Tesla</td>\n",
       "      <td>2024</td>\n",
       "      <td>96773.0</td>\n",
       "      <td>14974.0</td>\n",
       "      <td>106618.0</td>\n",
       "      <td>43009.0</td>\n",
       "      <td>18.795267</td>\n",
       "      <td>18.964010</td>\n",
       "    </tr>\n",
       "    <tr>\n",
       "      <th>6</th>\n",
       "      <td>Apple</td>\n",
       "      <td>2022</td>\n",
       "      <td>394328.0</td>\n",
       "      <td>99803.0</td>\n",
       "      <td>352755.0</td>\n",
       "      <td>302083.0</td>\n",
       "      <td>0.000000</td>\n",
       "      <td>0.000000</td>\n",
       "    </tr>\n",
       "    <tr>\n",
       "      <th>7</th>\n",
       "      <td>Apple</td>\n",
       "      <td>2023</td>\n",
       "      <td>383285.0</td>\n",
       "      <td>96995.0</td>\n",
       "      <td>352583.0</td>\n",
       "      <td>290437.0</td>\n",
       "      <td>-2.800461</td>\n",
       "      <td>-2.813543</td>\n",
       "    </tr>\n",
       "    <tr>\n",
       "      <th>8</th>\n",
       "      <td>Apple</td>\n",
       "      <td>2024</td>\n",
       "      <td>391035.0</td>\n",
       "      <td>93736.0</td>\n",
       "      <td>364980.0</td>\n",
       "      <td>308030.0</td>\n",
       "      <td>2.021994</td>\n",
       "      <td>-3.359967</td>\n",
       "    </tr>\n",
       "  </tbody>\n",
       "</table>\n",
       "</div>"
      ],
      "text/plain": [
       "     Company  Year  Total Revenue  Net Income  Total Assets  \\\n",
       "0  Microsoft  2022       198270.0     72738.0      364840.0   \n",
       "1  Microsoft  2023       211915.0     72361.0      411976.0   \n",
       "2  Microsoft  2024       245122.0     88136.0      512163.0   \n",
       "3      Tesla  2022        53823.0      5644.0       62131.0   \n",
       "4      Tesla  2023        81462.0     12587.0       82338.0   \n",
       "5      Tesla  2024        96773.0     14974.0      106618.0   \n",
       "6      Apple  2022       394328.0     99803.0      352755.0   \n",
       "7      Apple  2023       383285.0     96995.0      352583.0   \n",
       "8      Apple  2024       391035.0     93736.0      364980.0   \n",
       "\n",
       "   Total Liabilities  Revenue Growth (%)  Net Income Growth (%)  \n",
       "0           198298.0            0.000000               0.000000  \n",
       "1           205753.0            6.882030              -0.518299  \n",
       "2           243686.0           15.669962              21.800417  \n",
       "3            30548.0            0.000000               0.000000  \n",
       "4            36440.0           51.351653             123.015592  \n",
       "5            43009.0           18.795267              18.964010  \n",
       "6           302083.0            0.000000               0.000000  \n",
       "7           290437.0           -2.800461              -2.813543  \n",
       "8           308030.0            2.021994              -3.359967  "
      ]
     },
     "execution_count": 7,
     "metadata": {},
     "output_type": "execute_result"
    }
   ],
   "source": [
    "df"
   ]
  },
  {
   "cell_type": "code",
   "execution_count": 8,
   "id": "52bcfd65-6f87-4e5e-b753-2f0fa214d232",
   "metadata": {},
   "outputs": [],
   "source": [
    "df.to_csv('final_data_report.csv')"
   ]
  },
  {
   "cell_type": "markdown",
   "id": "8bdf1b71-6315-46b4-a11f-f77368a3fee1",
   "metadata": {},
   "source": [
    "\n",
    "\n",
    "\n",
    "\n",
    "Key findings:\n",
    "\n",
    "\n",
    "Revenue Growth:\n",
    "\n",
    "Microsoft: Consistent revenue growth, peaking at 15.67% in 2024.\n",
    "Tesla: Strong growth, especially in 2023 (51.35%), with a more moderate rise in 2024 (18.79%).\n",
    "Apple: Fluctuations with a slight decline in 2023 (-2.80%) and modest recovery in 2024 (2.02%).\n",
    "Net Income:\n",
    "\n",
    "Microsoft: Stable, with significant growth in 2024 (21.80%).\n",
    "Tesla: Rapid improvement, especially in 2023 (123.02%).\n",
    "Apple: Gradual decline in net income growth over the years.\n",
    "Assets and Liabilities:\n",
    "\n",
    "Microsoft and Tesla: Consistent asset and liability growth.\n",
    "Apple: Minor fluctuations in assets and liabilities."
   ]
  },
  {
   "cell_type": "code",
   "execution_count": 9,
   "id": "8de5ef78-5452-4e04-9fd8-f8090b92ea3f",
   "metadata": {},
   "outputs": [
    {
     "name": "stdout",
     "output_type": "stream",
     "text": [
      "     Company  Total Revenue                             Net Income            \\\n",
      "                       mean        sum           std          mean       sum   \n",
      "0      Apple  389549.333333  1168648.0   5669.423810  96844.666667  290534.0   \n",
      "1  Microsoft  218435.666667   655307.0  24097.028786  77745.000000  233235.0   \n",
      "2      Tesla   77352.666667   232058.0  21767.879785  11068.333333   33205.0   \n",
      "\n",
      "                 Total Assets            Revenue Growth (%)             \\\n",
      "           std           mean        sum               mean        std   \n",
      "0  3036.292531  356772.666667  1070318.0          -0.259489   2.421677   \n",
      "1  9000.844016  429659.666667  1288979.0           7.517331   7.854275   \n",
      "2  4846.853240   83695.666667   251087.0          23.382306  25.981316   \n",
      "\n",
      "  Net Income Growth (%)             \n",
      "                   mean        std  \n",
      "0             -2.057837   1.802960  \n",
      "1              7.094040  12.738733  \n",
      "2             47.326534  66.230911  \n"
     ]
    }
   ],
   "source": [
    "# Aggregate metrics by company\n",
    "company_aggregates = df.groupby('Company').agg({\n",
    "    'Total Revenue': ['mean', 'sum', 'std'],\n",
    "    'Net Income': ['mean', 'sum', 'std'],\n",
    "    'Total Assets': ['mean', 'sum'],\n",
    "    'Revenue Growth (%)': ['mean', 'std'],\n",
    "    'Net Income Growth (%)': ['mean', 'std']\n",
    "}).reset_index()\n",
    "\n",
    "print(company_aggregates)\n"
   ]
  },
  {
   "cell_type": "code",
   "execution_count": 10,
   "id": "f3bd4e70-9cf5-4cf0-8a36-639e8045cf8b",
   "metadata": {},
   "outputs": [
    {
     "name": "stdout",
     "output_type": "stream",
     "text": [
      "   Year    Company  Total Revenue  Net Income  Total Assets\n",
      "0  2022      Apple       394328.0     99803.0      352755.0\n",
      "1  2022  Microsoft       198270.0     72738.0      364840.0\n",
      "2  2022      Tesla        53823.0      5644.0       62131.0\n",
      "3  2023      Apple       383285.0     96995.0      352583.0\n",
      "4  2023  Microsoft       211915.0     72361.0      411976.0\n",
      "5  2023      Tesla        81462.0     12587.0       82338.0\n",
      "6  2024      Apple       391035.0     93736.0      364980.0\n",
      "7  2024  Microsoft       245122.0     88136.0      512163.0\n",
      "8  2024      Tesla        96773.0     14974.0      106618.0\n"
     ]
    }
   ],
   "source": [
    "# Year-over-year comparison of revenue, net income, and assets\n",
    "yearly_comparison = df.groupby(['Year', 'Company'])[['Total Revenue', 'Net Income', 'Total Assets']].sum().reset_index()\n",
    "\n",
    "print(yearly_comparison)\n"
   ]
  },
  {
   "cell_type": "code",
   "execution_count": 11,
   "id": "10a3b633-1ec4-40c7-a01b-6847ea26ce43",
   "metadata": {},
   "outputs": [
    {
     "name": "stdout",
     "output_type": "stream",
     "text": [
      "     Company  Net Income Margin (%)  Asset Turnover\n",
      "0      Apple              24.862377        1.092106\n",
      "1  Microsoft              35.596183        0.512144\n",
      "2      Tesla              13.803641        0.921101\n"
     ]
    }
   ],
   "source": [
    "# Calculate profitability metrics\n",
    "df['Net Income Margin (%)'] = (df['Net Income'] / df['Total Revenue']) * 100\n",
    "df['Asset Turnover'] = df['Total Revenue'] / df['Total Assets']\n",
    "\n",
    "# Aggregate profitability by company\n",
    "profitability_metrics = df.groupby('Company').agg({\n",
    "    'Net Income Margin (%)': 'mean',\n",
    "    'Asset Turnover': 'mean'\n",
    "}).reset_index()\n",
    "\n",
    "print(profitability_metrics)\n"
   ]
  },
  {
   "cell_type": "code",
   "execution_count": 12,
   "id": "7115f23a-8419-4224-9112-5528543cb573",
   "metadata": {},
   "outputs": [
    {
     "name": "stdout",
     "output_type": "stream",
     "text": [
      "     Company  Revenue Growth Over Period (%)  \\\n",
      "0      Apple                       -0.835092   \n",
      "1  Microsoft                       23.630403   \n",
      "2      Tesla                       79.798599   \n",
      "\n",
      "   Net Income Growth Over Period (%)  \n",
      "0                          -6.078976  \n",
      "1                          21.169128  \n",
      "2                         165.308292  \n"
     ]
    }
   ],
   "source": [
    "# Calculate overall growth for the entire period\n",
    "overall_growth = df.groupby('Company').agg({\n",
    "    'Total Revenue': lambda x: ((x.iloc[-1] - x.iloc[0]) / x.iloc[0]) * 100,\n",
    "    'Net Income': lambda x: ((x.iloc[-1] - x.iloc[0]) / x.iloc[0]) * 100\n",
    "}).rename(columns={\n",
    "    'Total Revenue': 'Revenue Growth Over Period (%)',\n",
    "    'Net Income': 'Net Income Growth Over Period (%)'\n",
    "}).reset_index()\n",
    "\n",
    "print(overall_growth)\n"
   ]
  },
  {
   "cell_type": "code",
   "execution_count": 13,
   "id": "36c58c1b-5e5a-42f5-ae02-d1eb17f22087",
   "metadata": {},
   "outputs": [
    {
     "name": "stdout",
     "output_type": "stream",
     "text": [
      "                   Total Revenue  Net Income  Total Assets  Total Liabilities\n",
      "Total Revenue           1.000000    0.933299      0.710400           0.964729\n",
      "Net Income              0.933299    1.000000      0.907946           0.991656\n",
      "Total Assets            0.710400    0.907946      1.000000           0.862855\n",
      "Total Liabilities       0.964729    0.991656      0.862855           1.000000\n"
     ]
    }
   ],
   "source": [
    "# Correlation between financial metrics\n",
    "correlation_matrix = df[['Total Revenue', 'Net Income', 'Total Assets', 'Total Liabilities']].corr()\n",
    "\n",
    "print(correlation_matrix)\n"
   ]
  },
  {
   "cell_type": "code",
   "execution_count": 14,
   "id": "0b441d01-6270-4306-9aae-5159903ff3c9",
   "metadata": {},
   "outputs": [
    {
     "name": "stdout",
     "output_type": "stream",
     "text": [
      "     Company  Total Revenue    Net Income  Revenue Growth (%)\n",
      "0      Apple  389549.333333  96844.666667           -0.259489\n",
      "1  Microsoft  218435.666667  77745.000000            7.517331\n",
      "2      Tesla   77352.666667  11068.333333           23.382306\n"
     ]
    }
   ],
   "source": [
    "# Rank companies by average revenue and net income\n",
    "ranking = df.groupby('Company').agg({\n",
    "    'Total Revenue': 'mean',\n",
    "    'Net Income': 'mean',\n",
    "    'Revenue Growth (%)': 'mean'\n",
    "}).sort_values(by='Total Revenue', ascending=False).reset_index()\n",
    "\n",
    "print(ranking)\n"
   ]
  },
  {
   "cell_type": "code",
   "execution_count": 15,
   "id": "3d58efc1-0db9-4581-b808-42754e753269",
   "metadata": {},
   "outputs": [
    {
     "data": {
      "image/png": "[encoded data removed]",
      "text/plain": [
       "<Figure size 640x480 with 1 Axes>"
      ]
     },
     "metadata": {},
     "output_type": "display_data"
    },
    {
     "data": {
      "image/png": "[encoded data removed]",
      "text/plain": [
       "<Figure size 640x480 with 1 Axes>"
      ]
     },
     "metadata": {},
     "output_type": "display_data"
    }
   ],
   "source": [
    "import matplotlib.pyplot as plt\n",
    "import seaborn as sns\n",
    "\n",
    "# Plot revenue growth over years by company\n",
    "sns.lineplot(data=df, x='Year', y='Revenue Growth (%)', hue='Company')\n",
    "plt.title('Revenue Growth Over Years')\n",
    "plt.show()\n",
    "\n",
    "# Plot total revenue and net income by year\n",
    "sns.barplot(data=df, x='Year', y='Total Revenue', hue='Company')\n",
    "plt.title('Total Revenue by Year')\n",
    "plt.show()\n"
   ]
  },
  {
   "cell_type": "markdown",
   "id": "cf2cdd0a-8709-4a74-8953-716c825cd5ad",
   "metadata": {},
   "source": [
    "\n",
    "\n",
    "\n",
    "1. Revenue Trends\n",
    "Microsoft: Demonstrated steady and consistent revenue growth over the years, with a significant jump in 2024 (15.67% growth).\n",
    "Tesla: Experienced rapid growth, especially in 2023, with a 51.35% increase in revenue, reflecting its expansion phase.\n",
    "Apple: While maintaining the highest revenue, it showed slight fluctuations, with a small dip in 2023 and recovery in 2024.\n",
    "\n",
    "\n",
    "2. Profitability Insights\n",
    "Net Income Trends:\n",
    "Microsoft: Gradual growth with a notable increase in net income in 2024 (21.80%).\n",
    "Tesla: Showed impressive profitability improvements, particularly in 2023 (123.02% growth).\n",
    "Apple: Faced a declining trend in net income growth, despite high absolute figures.\n",
    "Net Income Margin:\n",
    "Tesla's profitability ratios improved significantly over time, while Microsoft and Apple maintained consistent performance.\n",
    "\n",
    "\n",
    "3. Asset and Liability Growth\n",
    "Microsoft and Tesla showed significant growth in total assets, highlighting their expansion strategies.\n",
    "Apple's assets remained relatively stable, with minor fluctuations.\n",
    "Tesla experienced the most substantial increase in liabilities, indicating higher leverage to support its growth.\n",
    "\n",
    "\n",
    "4. Overall Growth Comparison\n",
    "Tesla led in terms of percentage growth in revenue and net income, reflecting its aggressive expansion and scaling.\n",
    "Microsoft exhibited sustainable and balanced growth across all metrics.\n",
    "Apple, while being a market leader in revenue, saw slower growth rates and declining profitability metrics.\n",
    "\n",
    "\n",
    "5. Correlation Insights\n",
    "Strong positive correlation between revenue and assets for all companies, suggesting efficient asset utilization.\n",
    "Tesla showed a higher correlation between revenue and liabilities, consistent with its rapid expansion strategy.\n"
   ]
  },
  {
   "cell_type": "markdown",
   "id": "77c10482-d123-4340-975f-be35d021d89d",
   "metadata": {},
   "source": [
    "Summary of Financial Analysis\n",
    "\n",
    "From 2022 to 2024, Microsoft, Tesla, and Apple showed distinct financial trends:\n",
    "\n",
    "Revenue Growth: Tesla led with rapid growth, especially in 2023 (51.35%), while Microsoft showed steady increases. Apple maintained high revenue but experienced slower growth.\n",
    "\n",
    "Profitability: Tesla achieved the highest net income growth, while Microsoft demonstrated stable profitability. Apple’s profitability declined slightly despite its strong overall performance.\n",
    "\n",
    "Assets and Liabilities: Microsoft and Tesla expanded assets and liabilities steadily, with Tesla leveraging heavily for growth. Apple remained stable with minor fluctuations.\n",
    "\n",
    "Overall Performance: Tesla excelled in growth, Microsoft showed sustainable progress, and Apple faced challenges maintaining growth despite being a market leader."
   ]
  },
  {
   "cell_type": "code",
   "execution_count": 16,
   "id": "6e7f35c9-2e5a-467e-b8ad-ecf0b091e524",
   "metadata": {},
   "outputs": [],
   "source": [
    "overall_growth.to_csv('Summary_final_report.csv')"
   ]
  },
  {
   "cell_type": "code",
   "execution_count": 17,
   "id": "46a9ad1e-b68a-4008-97da-412b9a65d29f",
   "metadata": {},
   "outputs": [
    {
     "data": {
      "text/html": [
       "<div>\n",
       "<style scoped>\n",
       "    .dataframe tbody tr th:only-of-type {\n",
       "        vertical-align: middle;\n",
       "    }\n",
       "\n",
       "    .dataframe tbody tr th {\n",
       "        vertical-align: top;\n",
       "    }\n",
       "\n",
       "    .dataframe thead th {\n",
       "        text-align: right;\n",
       "    }\n",
       "</style>\n",
       "<table border=\"1\" class=\"dataframe\">\n",
       "  <thead>\n",
       "    <tr style=\"text-align: right;\">\n",
       "      <th></th>\n",
       "      <th>Company</th>\n",
       "      <th>Revenue Growth Over Period (%)</th>\n",
       "      <th>Net Income Growth Over Period (%)</th>\n",
       "    </tr>\n",
       "  </thead>\n",
       "  <tbody>\n",
       "    <tr>\n",
       "      <th>0</th>\n",
       "      <td>Apple</td>\n",
       "      <td>-0.835092</td>\n",
       "      <td>-6.078976</td>\n",
       "    </tr>\n",
       "    <tr>\n",
       "      <th>1</th>\n",
       "      <td>Microsoft</td>\n",
       "      <td>23.630403</td>\n",
       "      <td>21.169128</td>\n",
       "    </tr>\n",
       "    <tr>\n",
       "      <th>2</th>\n",
       "      <td>Tesla</td>\n",
       "      <td>79.798599</td>\n",
       "      <td>165.308292</td>\n",
       "    </tr>\n",
       "  </tbody>\n",
       "</table>\n",
       "</div>"
      ],
      "text/plain": [
       "     Company  Revenue Growth Over Period (%)  \\\n",
       "0      Apple                       -0.835092   \n",
       "1  Microsoft                       23.630403   \n",
       "2      Tesla                       79.798599   \n",
       "\n",
       "   Net Income Growth Over Period (%)  \n",
       "0                          -6.078976  \n",
       "1                          21.169128  \n",
       "2                         165.308292  "
      ]
     },
     "execution_count": 17,
     "metadata": {},
     "output_type": "execute_result"
    }
   ],
   "source": [
    "overall_growth"
   ]
  },
  {
   "cell_type": "code",
   "execution_count": null,
   "id": "23fe52fd-a2dd-4ee0-a158-439f766610fc",
   "metadata": {},
   "outputs": [],
   "source": []
  }
 ],
 "metadata": {
  "kernelspec": {
   "display_name": "Python 3 (ipykernel)",
   "language": "python",
   "name": "python3"
  },
  "language_info": {
   "codemirror_mode": {
    "name": "ipython",
    "version": 3
   },
   "file_extension": ".py",
   "mimetype": "text/x-python",
   "name": "python",
   "nbconvert_exporter": "python",
   "pygments_lexer": "ipython3",
   "version": "3.11.3"
  }
 },
 "nbformat": 4,
 "nbformat_minor": 5
}
