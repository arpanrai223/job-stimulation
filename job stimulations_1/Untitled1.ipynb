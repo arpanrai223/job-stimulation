{
 "cells": [
  {
   "cell_type": "markdown",
   "id": "02580a03-e9c2-41de-9d74-e0aa4f746921",
   "metadata": {},
   "source": [
    "Query examples:-\n",
    "\n",
    "What is the total revenue?\n",
    "What is the Net Income?\n",
    "What is the sum of total assets?\n",
    "What is the sum of total liabilities?\n",
    "What is cash flow from operating activities?\n",
    "What is the revenue growth(%) ?\n",
    "What is the net income growth(%) ?\n",
    "What is the assets growth(%) ?\n",
    "What is the liabilities growth(%) ?\n",
    "What is the cash flow from operations growth(%) ?\n",
    "What is the year by year average revenue growth rate(%)?\n",
    "What is the year by year average net income growth rate(%)?\n",
    "What is the year by year average assets growth rate(%)?\n",
    "What is the year by year average liabilities growth rate(%)?"
   ]
  },
  {
   "cell_type": "code",
   "execution_count": null,
   "id": "715501e4-e0c6-4177-bbaa-0dd9b926d6b2",
   "metadata": {},
   "outputs": [],
   "source": [
    "import pandas as pd\n",
    "data = pd.read_csv('final_data_report.csv')\n",
    "data_2 = pd.read_csv('Summary_final_report.csv')"
   ]
  },
  {
   "cell_type": "code",
   "execution_count": null,
   "id": "ac0bbe76-eea6-41bf-8e50-f5041bece8a5",
   "metadata": {},
   "outputs": [],
   "source": [
    "data"
   ]
  },
  {
   "cell_type": "code",
   "execution_count": null,
   "id": "9a1ef7c5-ecc4-491e-a181-530730c8d367",
   "metadata": {},
   "outputs": [],
   "source": [
    "print(\"Year by Year Average Growth from 2021 to 2023\")\n",
    "data_2"
   ]
  },
  {
   "cell_type": "code",
   "execution_count": null,
   "id": "0bf34be4-a5af-49b0-aee5-5af4f587e642",
   "metadata": {},
   "outputs": [],
   "source": [
    "%run AI_driven_Financial_ChatBot_Prototype.py"
   ]
  },
  {
   "cell_type": "code",
   "execution_count": null,
   "id": "d2bfe4b3-8f3c-427a-923f-36fbd9fdc7f3",
   "metadata": {},
   "outputs": [],
   "source": [
    "print('hello')"
   ]
  },
  {
   "cell_type": "code",
   "execution_count": null,
   "id": "7dbf09af-e45a-4237-a68b-61c7bb255199",
   "metadata": {},
   "outputs": [],
   "source": []
  }
 ],
 "metadata": {
  "kernelspec": {
   "display_name": "Python 3 (ipykernel)",
   "language": "python",
   "name": "python3"
  },
  "language_info": {
   "codemirror_mode": {
    "name": "ipython",
    "version": 3
   },
   "file_extension": ".py",
   "mimetype": "text/x-python",
   "name": "python",
   "nbconvert_exporter": "python",
   "pygments_lexer": "ipython3",
   "version": "3.11.3"
  }
 },
 "nbformat": 4,
 "nbformat_minor": 5
}
